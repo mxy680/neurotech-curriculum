{
 "cells": [
  {
   "cell_type": "markdown",
   "metadata": {},
   "source": [
    "# Introduction to Python\n",
    "\n",
    "This notebook will introduce you to the basics of Python, covering essential concepts to get you started.\n",
    "\n",
    "Learning Objectives: By the end of this notebook, you’ll understand:\n",
    "1.\tBasic Python syntax and operations.\n",
    "2.\tHow to work with variables, data types, and simple functions.\n",
    "3.\tControl flow (if/else, loops).\n",
    "4.\tBasic data structures (lists, dictionaries)."
   ]
  },
  {
   "cell_type": "markdown",
   "metadata": {},
   "source": [
    "## 1. Setting Up the Environment\n",
    "\n",
    "Before we dive into Python, let's check that you're running the correct version of Python."
   ]
  },
  {
   "cell_type": "code",
   "execution_count": 1,
   "metadata": {},
   "outputs": [
    {
     "name": "stdout",
     "output_type": "stream",
     "text": [
      "Python 3.12.5\n"
     ]
    }
   ],
   "source": [
    "# Check Python version\n",
    "!python --version"
   ]
  },
  {
   "cell_type": "markdown",
   "metadata": {},
   "source": [
    "## 2. Basic Python Syntax"
   ]
  },
  {
   "cell_type": "markdown",
   "metadata": {},
   "source": [
    "#### The Print Statement\n",
    "\n",
    "The print() function is used to output data to the screen. Let’s start by printing “Hello, World!” which is a traditional first program in any language."
   ]
  }
 ],
 "metadata": {
  "kernelspec": {
   "display_name": "neurotech-curriculum-GDeaBtn4-py3.12",
   "language": "python",
   "name": "python3"
  },
  "language_info": {
   "codemirror_mode": {
    "name": "ipython",
    "version": 3
   },
   "file_extension": ".py",
   "mimetype": "text/x-python",
   "name": "python",
   "nbconvert_exporter": "python",
   "pygments_lexer": "ipython3",
   "version": "3.12.5"
  }
 },
 "nbformat": 4,
 "nbformat_minor": 2
}
