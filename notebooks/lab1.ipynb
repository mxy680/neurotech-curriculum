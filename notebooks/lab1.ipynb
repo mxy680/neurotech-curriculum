{
 "cells": [
  {
   "cell_type": "markdown",
   "metadata": {},
   "source": [
    "# Introduction to Python\n",
    "\n",
    "This notebook will introduce you to the basics of Python, covering essential concepts to get you started.\n",
    "\n",
    "Learning Objectives: By the end of this notebook, you’ll understand:\n",
    "1.\tBasic Python syntax and operations.\n",
    "2.\tHow to work with variables, data types, and simple functions.\n",
    "3.\tControl flow (if/else, loops).\n",
    "4.\tBasic data structures (lists, dictionaries)."
   ]
  },
  {
   "cell_type": "markdown",
   "metadata": {},
   "source": [
    "## 1. Setting Up the Environment\n",
    "\n",
    "Before we dive into Python, let's check that you're running the correct version of Python."
   ]
  },
  {
   "cell_type": "code",
   "execution_count": 3,
   "metadata": {},
   "outputs": [
    {
     "name": "stdout",
     "output_type": "stream",
     "text": [
      "Python 3.12.5\n"
     ]
    }
   ],
   "source": [
    "# Check Python version\n",
    "!python --version"
   ]
  },
  {
   "cell_type": "markdown",
   "metadata": {},
   "source": [
    "## 2. Basic Python Syntax"
   ]
  },
  {
   "cell_type": "markdown",
   "metadata": {},
   "source": [
    "The print() function is used to output data to the screen. Let’s start by printing “Hello, World!” which is a traditional first program in any language."
   ]
  },
  {
   "cell_type": "code",
   "execution_count": 4,
   "metadata": {},
   "outputs": [
    {
     "name": "stdout",
     "output_type": "stream",
     "text": [
      "Hello, World!\n"
     ]
    }
   ],
   "source": [
    "# Simple print statement\n",
    "print(\"Hello, World!\")"
   ]
  },
  {
   "cell_type": "markdown",
   "metadata": {},
   "source": [
    "Comments in Python are marked by a #. Everything after the # on that line is ignored by the interpreter. Use comments to make your code more readable."
   ]
  },
  {
   "cell_type": "code",
   "execution_count": 5,
   "metadata": {},
   "outputs": [
    {
     "data": {
      "text/plain": [
       "'\\nThis is a\\nmulti-line comment.\\n'"
      ]
     },
     "execution_count": 5,
     "metadata": {},
     "output_type": "execute_result"
    }
   ],
   "source": [
    "# This is a single-line comment\n",
    "\n",
    "\"\"\"\n",
    "This is a\n",
    "multi-line comment.\n",
    "\"\"\""
   ]
  },
  {
   "cell_type": "markdown",
   "metadata": {},
   "source": [
    "## 3. Variables and Data Types"
   ]
  },
  {
   "cell_type": "markdown",
   "metadata": {},
   "source": [
    "Variables store data in your program. In Python, you don’t need to declare the variable type. The type is inferred from the value you assign."
   ]
  },
  {
   "cell_type": "code",
   "execution_count": 6,
   "metadata": {},
   "outputs": [
    {
     "name": "stdout",
     "output_type": "stream",
     "text": [
      "x: 10\n",
      "y: 3.14\n",
      "name: Mark\n",
      "is_student: True\n"
     ]
    }
   ],
   "source": [
    "# Variable assignment examples\n",
    "x = 10  # Integer\n",
    "y = 3.14  # Float\n",
    "name = \"Mark\"  # String\n",
    "is_student = True  # Boolean\n",
    "\n",
    "# Display variables\n",
    "print(\"x:\", x)\n",
    "print(\"y:\", y)\n",
    "print(\"name:\", name)\n",
    "print(\"is_student:\", is_student)"
   ]
  },
  {
   "cell_type": "markdown",
   "metadata": {},
   "source": [
    "### 3.2. Data Types Overview\n",
    "\n",
    "Python supports various data types. Some of the most commonly used types include:\n",
    "- **Integers**: Whole numbers (e.g., `10`)\n",
    "- **Floats**: Decimal numbers (e.g., `3.14`)\n",
    "- **Strings**: Text (e.g., `\"Hello\"`)\n",
    "- **Booleans**: True or False values (e.g., `True`)"
   ]
  },
  {
   "cell_type": "code",
   "execution_count": 7,
   "metadata": {},
   "outputs": [
    {
     "name": "stdout",
     "output_type": "stream",
     "text": [
      "<class 'int'>\n",
      "<class 'float'>\n",
      "<class 'str'>\n",
      "<class 'bool'>\n"
     ]
    }
   ],
   "source": [
    "# Type checking\n",
    "print(type(x))  # int\n",
    "print(type(y))  # float\n",
    "print(type(name))  # str\n",
    "print(type(is_student))  # bool"
   ]
  },
  {
   "cell_type": "markdown",
   "metadata": {},
   "source": [
    "### 3.3. Casting\n",
    "\n",
    "You can convert between types using casting functions like `int()`, `float()`, `str()`, etc."
   ]
  },
  {
   "cell_type": "code",
   "execution_count": 8,
   "metadata": {},
   "outputs": [
    {
     "name": "stdout",
     "output_type": "stream",
     "text": [
      "a: 3 <class 'int'>\n",
      "b: 10 <class 'str'>\n"
     ]
    }
   ],
   "source": [
    "# Example of casting\n",
    "a = int(y)  # Cast float to int\n",
    "b = str(x)  # Cast int to string\n",
    "\n",
    "print(\"a:\", a, type(a))\n",
    "print(\"b:\", b, type(b))"
   ]
  },
  {
   "cell_type": "markdown",
   "metadata": {},
   "source": [
    "## 4. Basic Operations\n",
    "\n",
    "Here are some basic arithmetic operations:"
   ]
  },
  {
   "cell_type": "code",
   "execution_count": 9,
   "metadata": {},
   "outputs": [
    {
     "name": "stdout",
     "output_type": "stream",
     "text": [
      "Sum: 13.14\n",
      "Difference: 6.859999999999999\n",
      "Product: 31.400000000000002\n",
      "Quotient: 3.184713375796178\n",
      "Remainder: 0.5799999999999996\n",
      "Power: 100\n"
     ]
    }
   ],
   "source": [
    "# Arithmetic operations\n",
    "sum_xy = x + y  # Addition\n",
    "difference = x - y  # Subtraction\n",
    "product = x * y  # Multiplication\n",
    "quotient = x / y  # Division\n",
    "remainder = x % y  # Modulus\n",
    "power = x ** 2  # Exponentiation\n",
    "\n",
    "# Display results\n",
    "print(\"Sum:\", sum_xy)\n",
    "print(\"Difference:\", difference)\n",
    "print(\"Product:\", product)\n",
    "print(\"Quotient:\", quotient)\n",
    "print(\"Remainder:\", remainder)\n",
    "print(\"Power:\", power)"
   ]
  },
  {
   "cell_type": "markdown",
   "metadata": {},
   "source": [
    "### 4.2. Order of Operations\n",
    "\n",
    "Python follows the standard mathematical order of operations (PEMDAS: Parentheses, Exponents, Multiplication/Division, Addition/Subtraction)."
   ]
  },
  {
   "cell_type": "code",
   "execution_count": 10,
   "metadata": {},
   "outputs": [
    {
     "name": "stdout",
     "output_type": "stream",
     "text": [
      "Result: 90.1404\n"
     ]
    }
   ],
   "source": [
    "# Order of operations\n",
    "result = (x + y) * (x - y)\n",
    "print(\"Result:\", result)"
   ]
  },
  {
   "cell_type": "markdown",
   "metadata": {},
   "source": [
    "## 5. Control Flow: Conditional Statements\n",
    "\n",
    "Control the flow of your program using conditional statements. The `if` statement executes a block of code if a condition is true. The `else` block runs if the condition is false.\n"
   ]
  },
  {
   "cell_type": "code",
   "execution_count": 11,
   "metadata": {},
   "outputs": [
    {
     "name": "stdout",
     "output_type": "stream",
     "text": [
      "x is greater than y\n"
     ]
    }
   ],
   "source": [
    "# If/else example\n",
    "if x > y:\n",
    "    print(\"x is greater than y\")\n",
    "else:\n",
    "    print(\"x is not greater than y\")"
   ]
  },
  {
   "cell_type": "markdown",
   "metadata": {},
   "source": [
    "### 5.2. elif Statements\n",
    "\n",
    "Use `elif` (else if) to check multiple conditions."
   ]
  },
  {
   "cell_type": "code",
   "execution_count": 12,
   "metadata": {},
   "outputs": [
    {
     "name": "stdout",
     "output_type": "stream",
     "text": [
      "x is greater than y\n"
     ]
    }
   ],
   "source": [
    "# Elif example\n",
    "if x > y:\n",
    "    print(\"x is greater than y\")\n",
    "elif x == y:\n",
    "    print(\"x is equal to y\")\n",
    "else:\n",
    "    print(\"x is less than y\")\n"
   ]
  },
  {
   "cell_type": "markdown",
   "metadata": {},
   "source": [
    "### 5.3. Nested if Statements\n",
    "\n",
    "You can nest `if` statements inside each other."
   ]
  },
  {
   "cell_type": "code",
   "execution_count": 13,
   "metadata": {},
   "outputs": [
    {
     "name": "stdout",
     "output_type": "stream",
     "text": [
      "x is positive and greater than y\n"
     ]
    }
   ],
   "source": [
    "# Nested if example\n",
    "if x > 0:\n",
    "    if x > y:\n",
    "        print(\"x is positive and greater than y\")\n",
    "    else:\n",
    "        print(\"x is positive but not greater than y\")\n",
    "else:\n",
    "    print(\"x is non-positive\")\n"
   ]
  },
  {
   "cell_type": "markdown",
   "metadata": {},
   "source": [
    "## 6. Loops: for and while\n",
    "\n",
    "A `for` loop iterates over a sequence (like a list or range of numbers)."
   ]
  },
  {
   "cell_type": "code",
   "execution_count": 14,
   "metadata": {},
   "outputs": [
    {
     "name": "stdout",
     "output_type": "stream",
     "text": [
      "Loop iteration 0\n",
      "Loop iteration 1\n",
      "Loop iteration 2\n",
      "Loop iteration 3\n",
      "Loop iteration 4\n",
      "I like apple\n",
      "I like banana\n",
      "I like cherry\n"
     ]
    }
   ],
   "source": [
    "# For loop example: iterating over a range\n",
    "for i in range(5):\n",
    "    print(f\"Loop iteration {i}\")\n",
    "\n",
    "# For loop example: iterating over a list\n",
    "fruits = [\"apple\", \"banana\", \"cherry\"]\n",
    "for fruit in fruits:\n",
    "    print(f\"I like {fruit}\")"
   ]
  },
  {
   "cell_type": "markdown",
   "metadata": {},
   "source": [
    "### 6.2. The `while` Loop\n",
    "\n",
    "A `while` loop continues running as long as its condition is true."
   ]
  },
  {
   "cell_type": "code",
   "execution_count": 15,
   "metadata": {},
   "outputs": [
    {
     "name": "stdout",
     "output_type": "stream",
     "text": [
      "While loop iteration 0\n",
      "While loop iteration 1\n",
      "While loop iteration 2\n",
      "While loop iteration 3\n",
      "While loop iteration 4\n"
     ]
    }
   ],
   "source": [
    "# While loop example\n",
    "count = 0\n",
    "while count < 5:\n",
    "    print(f\"While loop iteration {count}\")\n",
    "    count += 1\n"
   ]
  },
  {
   "cell_type": "markdown",
   "metadata": {},
   "source": [
    "### 6.3. Loop Control Statements\n",
    "\n",
    "You can control loops using `break` (to exit the loop) and `continue` (to skip the current iteration).\n"
   ]
  },
  {
   "cell_type": "code",
   "execution_count": 16,
   "metadata": {},
   "outputs": [
    {
     "name": "stdout",
     "output_type": "stream",
     "text": [
      "0\n",
      "1\n",
      "2\n",
      "3\n",
      "4\n",
      "1\n",
      "3\n",
      "5\n",
      "7\n",
      "9\n"
     ]
    }
   ],
   "source": [
    "# Break example\n",
    "for i in range(10):\n",
    "    if i == 5:\n",
    "        break  # Exit the loop when i is 5\n",
    "    print(i)\n",
    "\n",
    "# Continue example\n",
    "for i in range(10):\n",
    "    if i % 2 == 0:\n",
    "        continue  # Skip even numbers\n",
    "    print(i)\n"
   ]
  },
  {
   "cell_type": "markdown",
   "metadata": {},
   "source": [
    "## 7. Basic Data Structures\n",
    "\n",
    "A list is an ordered collection of items. Lists are mutable, meaning you can change their content."
   ]
  },
  {
   "cell_type": "code",
   "execution_count": 17,
   "metadata": {},
   "outputs": [
    {
     "name": "stdout",
     "output_type": "stream",
     "text": [
      "Original list: ['apple', 'banana', 'cherry']\n",
      "First fruit: apple\n",
      "Modified list: ['apple', 'blueberry', 'cherry']\n",
      "List after adding an element: ['apple', 'blueberry', 'cherry', 'date']\n",
      "List after removing an element: ['blueberry', 'cherry', 'date']\n"
     ]
    }
   ],
   "source": [
    "# List example\n",
    "fruits = [\"apple\", \"banana\", \"cherry\"]\n",
    "print(\"Original list:\", fruits)\n",
    "\n",
    "# Accessing list elements\n",
    "print(\"First fruit:\", fruits[0])\n",
    "\n",
    "# Modifying list elements\n",
    "fruits[1] = \"blueberry\"\n",
    "print(\"Modified list:\", fruits)\n",
    "\n",
    "# Adding to a list\n",
    "fruits.append(\"date\")\n",
    "print(\"List after adding an element:\", fruits)\n",
    "\n",
    "# Removing from a list\n",
    "fruits.remove(\"apple\")\n",
    "print(\"List after removing an element:\", fruits)\n"
   ]
  },
  {
   "cell_type": "markdown",
   "metadata": {},
   "source": [
    "### 7.2. Dictionaries\n",
    "\n",
    "A dictionary is an unordered collection of key-value pairs. Dictionaries are mutable, and keys must be unique.\n"
   ]
  },
  {
   "cell_type": "code",
   "execution_count": 18,
   "metadata": {},
   "outputs": [
    {
     "name": "stdout",
     "output_type": "stream",
     "text": [
      "Original dictionary: {'name': 'Mark', 'age': 21, 'course': 'Data Science'}\n",
      "Student name: Mark\n",
      "Modified dictionary: {'name': 'Mark', 'age': 22, 'course': 'Data Science'}\n",
      "Dictionary after adding a new key-value pair: {'name': 'Mark', 'age': 22, 'course': 'Data Science', 'graduation_year': 2024}\n",
      "Dictionary after removing a key-value pair: {'name': 'Mark', 'age': 22, 'graduation_year': 2024}\n"
     ]
    }
   ],
   "source": [
    "# Dictionary example\n",
    "student = {\n",
    "    \"name\": \"Mark\",\n",
    "    \"age\": 21,\n",
    "    \"course\": \"Data Science\"\n",
    "}\n",
    "print(\"Original dictionary:\", student)\n",
    "\n",
    "# Accessing dictionary values\n",
    "print(\"Student name:\", student[\"name\"])\n",
    "\n",
    "# Modifying dictionary values\n",
    "student[\"age\"] = 22\n",
    "print(\"Modified dictionary:\", student)\n",
    "\n",
    "# Adding a new key-value pair\n",
    "student[\"graduation_year\"] = 2024\n",
    "print(\"Dictionary after adding a new key-value pair:\", student)\n",
    "\n",
    "# Removing a key-value pair\n",
    "del student[\"course\"]\n",
    "print(\"Dictionary after removing a key-value pair:\", student)\n"
   ]
  },
  {
   "cell_type": "markdown",
   "metadata": {},
   "source": [
    "### 7.3. Other Data Structures: Tuples and Sets\n",
    "\n",
    "- **Tuples** are like lists, but they are immutable (i.e., you can't change their content).\n",
    "- **Sets** are unordered collections of unique elements.\n"
   ]
  },
  {
   "cell_type": "code",
   "execution_count": 19,
   "metadata": {},
   "outputs": [
    {
     "name": "stdout",
     "output_type": "stream",
     "text": [
      "Tuple: (10, 20)\n",
      "Set: {1, 2, 3, 4, 5}\n"
     ]
    }
   ],
   "source": [
    "# Tuple example\n",
    "coordinates = (10, 20)\n",
    "print(\"Tuple:\", coordinates)\n",
    "\n",
    "# Set example\n",
    "unique_numbers = {1, 2, 3, 3, 4, 4, 5}\n",
    "print(\"Set:\", unique_numbers)\n"
   ]
  },
  {
   "cell_type": "markdown",
   "metadata": {},
   "source": [
    "## 8. Conclusion and Next Steps\n",
    "\n",
    "Congratulations on completing the introduction to Python! You've learned the fundamentals of Python programming, including variables, data types, control flow, loops, and basic data structures. These are the building blocks for more advanced topics in data science and machine learning.\n",
    "\n",
    "In the next notebook, you'll learn about data manipulation and analysis using Python libraries like **NumPy** and **Pandas**.\n",
    "\n",
    "Keep practicing, and feel free to explore the Python language further!"
   ]
  }
 ],
 "metadata": {
  "kernelspec": {
   "display_name": "neurotech-curriculum-GDeaBtn4-py3.12",
   "language": "python",
   "name": "python3"
  },
  "language_info": {
   "codemirror_mode": {
    "name": "ipython",
    "version": 3
   },
   "file_extension": ".py",
   "mimetype": "text/x-python",
   "name": "python",
   "nbconvert_exporter": "python",
   "pygments_lexer": "ipython3",
   "version": "3.12.5"
  }
 },
 "nbformat": 4,
 "nbformat_minor": 2
}
